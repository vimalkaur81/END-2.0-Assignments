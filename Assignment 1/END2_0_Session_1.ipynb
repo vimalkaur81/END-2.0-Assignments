{
  "nbformat": 4,
  "nbformat_minor": 0,
  "metadata": {
    "colab": {
      "name": "END2.0 Session 1.ipynb",
      "provenance": [],
      "include_colab_link": true
    },
    "kernelspec": {
      "name": "python3",
      "display_name": "Python 3"
    },
    "language_info": {
      "name": "python"
    }
  },
  "cells": [
    {
      "cell_type": "markdown",
      "metadata": {
        "id": "view-in-github",
        "colab_type": "text"
      },
      "source": [
        "<a href=\"https://colab.research.google.com/github/vimalkaur81/END-2.0-Assignments/blob/main/Assignment%201/END2_0_Session_1.ipynb\" target=\"_parent\"><img src=\"https://colab.research.google.com/assets/colab-badge.svg\" alt=\"Open In Colab\"/></a>"
      ]
    },
    {
      "cell_type": "code",
      "metadata": {
        "colab": {
          "base_uri": "https://localhost:8080/"
        },
        "id": "GC_6PeobwwkH",
        "outputId": "38ffdbb5-d455-40dd-ccda-252b053d9a73"
      },
      "source": [
        "import torch\n",
        "from torch.autograd import Variable\n",
        "import torch.nn as nn\n",
        "import torch.nn.functional as F\n",
        "import torch.optim as optim\n",
        "import numpy as np\n",
        "import matplotlib.pyplot as plt\n",
        "%matplotlib inline\n",
        "torch.manual_seed(2)"
      ],
      "execution_count": null,
      "outputs": [
        {
          "output_type": "execute_result",
          "data": {
            "text/plain": [
              "<torch._C.Generator at 0x7fbb8fb2e8d0>"
            ]
          },
          "metadata": {
            "tags": []
          },
          "execution_count": 1
        }
      ]
    },
    {
      "cell_type": "code",
      "metadata": {
        "id": "bL64bMTkw2GP"
      },
      "source": [
        "X = torch.Tensor([[0,0], [0,1], [1,0], [1,1]])\n",
        "Y = torch.Tensor([0, 1, 1, 0]).view(-1,1)"
      ],
      "execution_count": null,
      "outputs": []
    },
    {
      "cell_type": "code",
      "metadata": {
        "id": "aC82kEAIw3Wf"
      },
      "source": [
        "class XOR(nn.Module):\n",
        "    def __init__(self, input_dim = 2, output_dim=1):\n",
        "        super(XOR, self).__init__()\n",
        "        #2. make sure there are in total 44 parameters\n",
        "        self.lin1 = nn.Linear(input_dim, 5)\n",
        "        self.lin2 = nn.Linear(5, 4)\n",
        "        self.lin3 = nn.Linear(4, output_dim)\n",
        "    \n",
        "    def forward(self, x):\n",
        "        x = self.lin1(x)\n",
        "        x = F.tanh(x)\n",
        "        x = self.lin2(x)\n",
        "        x = F.tanh(x)\n",
        "        x = self.lin3(x)\n",
        "        return x"
      ],
      "execution_count": null,
      "outputs": []
    },
    {
      "cell_type": "code",
      "metadata": {
        "colab": {
          "base_uri": "https://localhost:8080/"
        },
        "id": "8gQIQExYw65K",
        "outputId": "b2c843b9-4e07-42b2-acba-12fd2b97a74b"
      },
      "source": [
        "model = XOR()\n",
        "print(model)\n",
        "from torchsummary import summary\n",
        "summary(model, (2,2))"
      ],
      "execution_count": null,
      "outputs": [
        {
          "output_type": "stream",
          "text": [
            "XOR(\n",
            "  (lin1): Linear(in_features=2, out_features=5, bias=True)\n",
            "  (lin2): Linear(in_features=5, out_features=4, bias=True)\n",
            "  (lin3): Linear(in_features=4, out_features=1, bias=True)\n",
            ")\n",
            "----------------------------------------------------------------\n",
            "        Layer (type)               Output Shape         Param #\n",
            "================================================================\n",
            "            Linear-1                 [-1, 2, 5]              15\n",
            "            Linear-2                 [-1, 2, 4]              24\n",
            "            Linear-3                 [-1, 2, 1]               5\n",
            "================================================================\n",
            "Total params: 44\n",
            "Trainable params: 44\n",
            "Non-trainable params: 0\n",
            "----------------------------------------------------------------\n",
            "Input size (MB): 0.00\n",
            "Forward/backward pass size (MB): 0.00\n",
            "Params size (MB): 0.00\n",
            "Estimated Total Size (MB): 0.00\n",
            "----------------------------------------------------------------\n"
          ],
          "name": "stdout"
        },
        {
          "output_type": "stream",
          "text": [
            "/usr/local/lib/python3.7/dist-packages/torch/nn/functional.py:1698: UserWarning: nn.functional.tanh is deprecated. Use torch.tanh instead.\n",
            "  warnings.warn(\"nn.functional.tanh is deprecated. Use torch.tanh instead.\")\n"
          ],
          "name": "stderr"
        }
      ]
    },
    {
      "cell_type": "code",
      "metadata": {
        "id": "yeotEq19x6XF"
      },
      "source": [
        "def weights_init(model):\n",
        "    for m in model.modules():\n",
        "        if isinstance(m, nn.Linear):\n",
        "            # initialize the weight tensor, here we use a normal distribution\n",
        "            m.weight.data.normal_(0, 1)\n",
        "\n",
        "weights_init(model)"
      ],
      "execution_count": null,
      "outputs": []
    },
    {
      "cell_type": "code",
      "metadata": {
        "id": "WrD_sNzLx78e"
      },
      "source": [
        "loss_func = nn.L1Loss()"
      ],
      "execution_count": null,
      "outputs": []
    },
    {
      "cell_type": "code",
      "metadata": {
        "id": "-zvbrMd2x_lA"
      },
      "source": [
        "optimizer = optim.SGD(model.parameters(), lr=0.02, momentum=0.9)\n"
      ],
      "execution_count": null,
      "outputs": []
    },
    {
      "cell_type": "code",
      "metadata": {
        "colab": {
          "base_uri": "https://localhost:8080/"
        },
        "id": "q7tWa3D7yA5X",
        "outputId": "7822da10-ad58-4841-c64d-f20c3c21e914"
      },
      "source": [
        "# run it for 2001 epochs\n",
        "# epochs = 300\n",
        "epochs = 2001\n",
        "steps = X.size(0)\n",
        "for i in range(epochs):\n",
        "    for j in range(steps):\n",
        "        data_point = np.random.randint(X.size(0))\n",
        "        x_var = Variable(X[data_point], requires_grad=False)\n",
        "        y_var = Variable(Y[data_point], requires_grad=False)\n",
        "        \n",
        "        optimizer.zero_grad()\n",
        "        y_hat = model(x_var)\n",
        "        loss = loss_func.forward(y_hat, y_var)\n",
        "        loss.backward()\n",
        "        optimizer.step()\n",
        "        \n",
        "    if i % 50 == 0:\n",
        "        print( \"Epoch: {0}, Loss: {1}, \".format(i, loss.data.numpy()))"
      ],
      "execution_count": null,
      "outputs": [
        {
          "output_type": "stream",
          "text": [
            "/usr/local/lib/python3.7/dist-packages/torch/nn/functional.py:1698: UserWarning: nn.functional.tanh is deprecated. Use torch.tanh instead.\n",
            "  warnings.warn(\"nn.functional.tanh is deprecated. Use torch.tanh instead.\")\n"
          ],
          "name": "stderr"
        },
        {
          "output_type": "stream",
          "text": [
            "Epoch: 0, Loss: 0.04734247922897339, \n",
            "Epoch: 50, Loss: 0.005151033401489258, \n",
            "Epoch: 100, Loss: 0.2650235891342163, \n",
            "Epoch: 150, Loss: 0.28824102878570557, \n",
            "Epoch: 200, Loss: 0.3373260498046875, \n",
            "Epoch: 250, Loss: 0.20503640174865723, \n",
            "Epoch: 300, Loss: 0.029239177703857422, \n",
            "Epoch: 350, Loss: 0.14150524139404297, \n",
            "Epoch: 400, Loss: 0.2662826180458069, \n",
            "Epoch: 450, Loss: 0.025043249130249023, \n",
            "Epoch: 500, Loss: 0.25337183475494385, \n",
            "Epoch: 550, Loss: 0.11539483070373535, \n",
            "Epoch: 600, Loss: 0.5018062591552734, \n",
            "Epoch: 650, Loss: 0.34403836727142334, \n",
            "Epoch: 700, Loss: 0.21749556064605713, \n",
            "Epoch: 750, Loss: 0.2847752571105957, \n",
            "Epoch: 800, Loss: 0.05153548717498779, \n",
            "Epoch: 850, Loss: 0.027943909168243408, \n",
            "Epoch: 900, Loss: 0.07139110565185547, \n",
            "Epoch: 950, Loss: 0.06144535541534424, \n",
            "Epoch: 1000, Loss: 0.009025514125823975, \n",
            "Epoch: 1050, Loss: 0.1334524154663086, \n",
            "Epoch: 1100, Loss: 0.011452913284301758, \n",
            "Epoch: 1150, Loss: 0.42558765411376953, \n",
            "Epoch: 1200, Loss: 0.15374135971069336, \n",
            "Epoch: 1250, Loss: 0.08206844329833984, \n",
            "Epoch: 1300, Loss: 0.10927224159240723, \n",
            "Epoch: 1350, Loss: 0.16479277610778809, \n",
            "Epoch: 1400, Loss: 0.04051566123962402, \n",
            "Epoch: 1450, Loss: 0.0035364627838134766, \n",
            "Epoch: 1500, Loss: 0.11707377433776855, \n",
            "Epoch: 1550, Loss: 0.37341248989105225, \n",
            "Epoch: 1600, Loss: 0.1828058958053589, \n",
            "Epoch: 1650, Loss: 0.008263111114501953, \n",
            "Epoch: 1700, Loss: 0.21357440948486328, \n",
            "Epoch: 1750, Loss: 0.32467448711395264, \n",
            "Epoch: 1800, Loss: 0.012126922607421875, \n",
            "Epoch: 1850, Loss: 0.09980690479278564, \n",
            "Epoch: 1900, Loss: 0.21258652210235596, \n",
            "Epoch: 1950, Loss: 0.024597525596618652, \n",
            "Epoch: 2000, Loss: 0.11373317241668701, \n"
          ],
          "name": "stdout"
        }
      ]
    },
    {
      "cell_type": "code",
      "metadata": {
        "id": "QV0dIdveyCRi"
      },
      "source": [
        ""
      ],
      "execution_count": null,
      "outputs": []
    }
  ]
}