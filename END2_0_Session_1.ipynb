{
  "nbformat": 4,
  "nbformat_minor": 0,
  "metadata": {
    "colab": {
      "name": "END2.0 Session 1.ipynb",
      "provenance": [],
      "include_colab_link": true
    },
    "kernelspec": {
      "name": "python3",
      "display_name": "Python 3"
    },
    "language_info": {
      "name": "python"
    }
  },
  "cells": [
    {
      "cell_type": "markdown",
      "metadata": {
        "id": "view-in-github",
        "colab_type": "text"
      },
      "source": [
        "<a href=\"https://colab.research.google.com/github/vimalkaur81/END-2.0-Assignments/blob/main/END2_0_Session_1.ipynb\" target=\"_parent\"><img src=\"https://colab.research.google.com/assets/colab-badge.svg\" alt=\"Open In Colab\"/></a>"
      ]
    },
    {
      "cell_type": "code",
      "metadata": {
        "colab": {
          "base_uri": "https://localhost:8080/"
        },
        "id": "GC_6PeobwwkH",
        "outputId": "c1e269c1-7352-4969-a5db-f000f34af0c6"
      },
      "source": [
        "import torch\n",
        "from torch.autograd import Variable\n",
        "import torch.nn as nn\n",
        "import torch.nn.functional as F\n",
        "import torch.optim as optim\n",
        "import numpy as np\n",
        "import matplotlib.pyplot as plt\n",
        "%matplotlib inline\n",
        "torch.manual_seed(2)"
      ],
      "execution_count": 1,
      "outputs": [
        {
          "output_type": "execute_result",
          "data": {
            "text/plain": [
              "<torch._C.Generator at 0x7f1959b078f0>"
            ]
          },
          "metadata": {
            "tags": []
          },
          "execution_count": 1
        }
      ]
    },
    {
      "cell_type": "code",
      "metadata": {
        "id": "bL64bMTkw2GP"
      },
      "source": [
        "X = torch.Tensor([[0,0], [0,1], [1,0], [1,1]])\n",
        "Y = torch.Tensor([0, 1, 1, 0]).view(-1,1)"
      ],
      "execution_count": 2,
      "outputs": []
    },
    {
      "cell_type": "code",
      "metadata": {
        "id": "aC82kEAIw3Wf"
      },
      "source": [
        "class XOR(nn.Module):\n",
        "    def __init__(self, input_dim = 2, output_dim=1):\n",
        "        super(XOR, self).__init__()\n",
        "        #2. make sure there are in total 44 parameters\n",
        "        self.lin1 = nn.Linear(input_dim, 11)\n",
        "        self.lin2 = nn.Linear(11, output_dim, False)\n",
        "    \n",
        "    def forward(self, x):\n",
        "        x = self.lin1(x)\n",
        "        x = F.tanh(x)\n",
        "        x = self.lin2(x)\n",
        "        #1. remove the last activation function\n",
        "        #x = F.tanh(x)\n",
        "        return x"
      ],
      "execution_count": 3,
      "outputs": []
    },
    {
      "cell_type": "code",
      "metadata": {
        "colab": {
          "base_uri": "https://localhost:8080/"
        },
        "id": "8gQIQExYw65K",
        "outputId": "10521f55-2fe9-4275-872f-28eb2cf10935"
      },
      "source": [
        "model = XOR()\n",
        "print(model)\n",
        "from torchsummary import summary\n",
        "summary(model, (2,2))"
      ],
      "execution_count": 4,
      "outputs": [
        {
          "output_type": "stream",
          "text": [
            "XOR(\n",
            "  (lin1): Linear(in_features=2, out_features=11, bias=True)\n",
            "  (lin2): Linear(in_features=11, out_features=1, bias=False)\n",
            ")\n",
            "----------------------------------------------------------------\n",
            "        Layer (type)               Output Shape         Param #\n",
            "================================================================\n",
            "            Linear-1                [-1, 2, 11]              33\n",
            "            Linear-2                 [-1, 2, 1]              11\n",
            "================================================================\n",
            "Total params: 44\n",
            "Trainable params: 44\n",
            "Non-trainable params: 0\n",
            "----------------------------------------------------------------\n",
            "Input size (MB): 0.00\n",
            "Forward/backward pass size (MB): 0.00\n",
            "Params size (MB): 0.00\n",
            "Estimated Total Size (MB): 0.00\n",
            "----------------------------------------------------------------\n"
          ],
          "name": "stdout"
        },
        {
          "output_type": "stream",
          "text": [
            "/usr/local/lib/python3.7/dist-packages/torch/nn/functional.py:1698: UserWarning: nn.functional.tanh is deprecated. Use torch.tanh instead.\n",
            "  warnings.warn(\"nn.functional.tanh is deprecated. Use torch.tanh instead.\")\n"
          ],
          "name": "stderr"
        }
      ]
    },
    {
      "cell_type": "code",
      "metadata": {
        "id": "yeotEq19x6XF"
      },
      "source": [
        "def weights_init(model):\n",
        "    for m in model.modules():\n",
        "        if isinstance(m, nn.Linear):\n",
        "            # initialize the weight tensor, here we use a normal distribution\n",
        "            m.weight.data.normal_(0, 1)\n",
        "\n",
        "weights_init(model)"
      ],
      "execution_count": 5,
      "outputs": []
    },
    {
      "cell_type": "code",
      "metadata": {
        "id": "WrD_sNzLx78e"
      },
      "source": [
        "loss_func = nn.L1Loss()"
      ],
      "execution_count": 6,
      "outputs": []
    },
    {
      "cell_type": "code",
      "metadata": {
        "id": "-zvbrMd2x_lA"
      },
      "source": [
        "optimizer = optim.SGD(model.parameters(), lr=0.02, momentum=0.9)\n"
      ],
      "execution_count": 7,
      "outputs": []
    },
    {
      "cell_type": "code",
      "metadata": {
        "colab": {
          "base_uri": "https://localhost:8080/"
        },
        "id": "q7tWa3D7yA5X",
        "outputId": "3b0060ac-000b-4bdf-c16d-df918a817625"
      },
      "source": [
        "# run it for 2001 epochs\n",
        "# epochs = 300\n",
        "epochs = 2000\n",
        "steps = X.size(0)\n",
        "for i in range(epochs):\n",
        "    for j in range(steps):\n",
        "        data_point = np.random.randint(X.size(0))\n",
        "        x_var = Variable(X[data_point], requires_grad=False)\n",
        "        y_var = Variable(Y[data_point], requires_grad=False)\n",
        "        \n",
        "        optimizer.zero_grad()\n",
        "        y_hat = model(x_var)\n",
        "        loss = loss_func.forward(y_hat, y_var)\n",
        "        loss.backward()\n",
        "        optimizer.step()\n",
        "        \n",
        "    if i % 50 == 0:\n",
        "        print( \"Epoch: {0}, Loss: {1}, \".format(i, loss.data.numpy()))"
      ],
      "execution_count": 8,
      "outputs": [
        {
          "output_type": "stream",
          "text": [
            "/usr/local/lib/python3.7/dist-packages/torch/nn/functional.py:1698: UserWarning: nn.functional.tanh is deprecated. Use torch.tanh instead.\n",
            "  warnings.warn(\"nn.functional.tanh is deprecated. Use torch.tanh instead.\")\n"
          ],
          "name": "stderr"
        },
        {
          "output_type": "stream",
          "text": [
            "Epoch: 0, Loss: 0.16947457194328308, \n",
            "Epoch: 50, Loss: 0.0278167724609375, \n",
            "Epoch: 100, Loss: 0.25635814666748047, \n",
            "Epoch: 150, Loss: 0.1123807430267334, \n",
            "Epoch: 200, Loss: 0.06848108768463135, \n",
            "Epoch: 250, Loss: 0.2424231767654419, \n",
            "Epoch: 300, Loss: 0.10117870569229126, \n",
            "Epoch: 350, Loss: 0.09132134914398193, \n",
            "Epoch: 400, Loss: 0.07193076610565186, \n",
            "Epoch: 450, Loss: 0.29383188486099243, \n",
            "Epoch: 500, Loss: 0.03747868537902832, \n",
            "Epoch: 550, Loss: 0.01964879035949707, \n",
            "Epoch: 600, Loss: 0.3040045201778412, \n",
            "Epoch: 650, Loss: 0.0329287052154541, \n",
            "Epoch: 700, Loss: 0.02425408363342285, \n",
            "Epoch: 750, Loss: 0.058036088943481445, \n",
            "Epoch: 800, Loss: 0.06917697191238403, \n",
            "Epoch: 850, Loss: 0.12538409233093262, \n",
            "Epoch: 900, Loss: 0.22210478782653809, \n",
            "Epoch: 950, Loss: 0.12044286727905273, \n",
            "Epoch: 1000, Loss: 0.27120354771614075, \n",
            "Epoch: 1050, Loss: 0.021069467067718506, \n",
            "Epoch: 1100, Loss: 0.34163135290145874, \n",
            "Epoch: 1150, Loss: 0.16624698042869568, \n",
            "Epoch: 1200, Loss: 0.01861792802810669, \n",
            "Epoch: 1250, Loss: 0.07538414001464844, \n",
            "Epoch: 1300, Loss: 0.20185327529907227, \n",
            "Epoch: 1350, Loss: 0.33093106746673584, \n",
            "Epoch: 1400, Loss: 0.13402926921844482, \n",
            "Epoch: 1450, Loss: 0.2142544984817505, \n",
            "Epoch: 1500, Loss: 0.022993922233581543, \n",
            "Epoch: 1550, Loss: 0.14231953024864197, \n",
            "Epoch: 1600, Loss: 0.03131687641143799, \n",
            "Epoch: 1650, Loss: 0.7296125888824463, \n",
            "Epoch: 1700, Loss: 0.10994136333465576, \n",
            "Epoch: 1750, Loss: 0.07083272933959961, \n",
            "Epoch: 1800, Loss: 0.09813374280929565, \n",
            "Epoch: 1850, Loss: 0.025507986545562744, \n",
            "Epoch: 1900, Loss: 0.2006322741508484, \n",
            "Epoch: 1950, Loss: 0.03670549392700195, \n"
          ],
          "name": "stdout"
        }
      ]
    },
    {
      "cell_type": "code",
      "metadata": {
        "id": "QV0dIdveyCRi"
      },
      "source": [
        ""
      ],
      "execution_count": null,
      "outputs": []
    }
  ]
}