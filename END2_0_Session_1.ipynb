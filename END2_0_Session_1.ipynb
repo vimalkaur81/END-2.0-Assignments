{
  "nbformat": 4,
  "nbformat_minor": 0,
  "metadata": {
    "colab": {
      "name": "END2.0 Session 1.ipynb",
      "provenance": [],
      "include_colab_link": true
    },
    "kernelspec": {
      "name": "python3",
      "display_name": "Python 3"
    },
    "language_info": {
      "name": "python"
    }
  },
  "cells": [
    {
      "cell_type": "markdown",
      "metadata": {
        "id": "view-in-github",
        "colab_type": "text"
      },
      "source": [
        "<a href=\"https://colab.research.google.com/github/vimalkaur81/END-2.0-Assignments/blob/main/END2_0_Session_1.ipynb\" target=\"_parent\"><img src=\"https://colab.research.google.com/assets/colab-badge.svg\" alt=\"Open In Colab\"/></a>"
      ]
    },
    {
      "cell_type": "code",
      "metadata": {
        "colab": {
          "base_uri": "https://localhost:8080/"
        },
        "id": "GC_6PeobwwkH",
        "outputId": "38ffdbb5-d455-40dd-ccda-252b053d9a73"
      },
      "source": [
        "import torch\n",
        "from torch.autograd import Variable\n",
        "import torch.nn as nn\n",
        "import torch.nn.functional as F\n",
        "import torch.optim as optim\n",
        "import numpy as np\n",
        "import matplotlib.pyplot as plt\n",
        "%matplotlib inline\n",
        "torch.manual_seed(2)"
      ],
      "execution_count": 1,
      "outputs": [
        {
          "output_type": "execute_result",
          "data": {
            "text/plain": [
              "<torch._C.Generator at 0x7fbb8fb2e8d0>"
            ]
          },
          "metadata": {
            "tags": []
          },
          "execution_count": 1
        }
      ]
    },
    {
      "cell_type": "code",
      "metadata": {
        "id": "bL64bMTkw2GP"
      },
      "source": [
        "X = torch.Tensor([[0,0], [0,1], [1,0], [1,1]])\n",
        "Y = torch.Tensor([0, 1, 1, 0]).view(-1,1)"
      ],
      "execution_count": 2,
      "outputs": []
    },
    {
      "cell_type": "code",
      "metadata": {
        "id": "aC82kEAIw3Wf"
      },
      "source": [
        "class XOR(nn.Module):\n",
        "    def __init__(self, input_dim = 2, output_dim=1):\n",
        "        super(XOR, self).__init__()\n",
        "        #2. make sure there are in total 44 parameters\n",
        "        self.lin1 = nn.Linear(input_dim, 5)\n",
        "        self.lin2 = nn.Linear(5, 4)\n",
        "        self.lin3 = nn.Linear(4, output_dim)\n",
        "    \n",
        "    def forward(self, x):\n",
        "        x = self.lin1(x)\n",
        "        x = F.tanh(x)\n",
        "        x = self.lin2(x)\n",
        "        x = F.tanh(x)\n",
        "        x = self.lin3(x)\n",
        "        return x"
      ],
      "execution_count": 3,
      "outputs": []
    },
    {
      "cell_type": "code",
      "metadata": {
        "colab": {
          "base_uri": "https://localhost:8080/"
        },
        "id": "8gQIQExYw65K",
        "outputId": "b2c843b9-4e07-42b2-acba-12fd2b97a74b"
      },
      "source": [
        "model = XOR()\n",
        "print(model)\n",
        "from torchsummary import summary\n",
        "summary(model, (2,2))"
      ],
      "execution_count": 4,
      "outputs": [
        {
          "output_type": "stream",
          "text": [
            "XOR(\n",
            "  (lin1): Linear(in_features=2, out_features=5, bias=True)\n",
            "  (lin2): Linear(in_features=5, out_features=4, bias=True)\n",
            "  (lin3): Linear(in_features=4, out_features=1, bias=True)\n",
            ")\n",
            "----------------------------------------------------------------\n",
            "        Layer (type)               Output Shape         Param #\n",
            "================================================================\n",
            "            Linear-1                 [-1, 2, 5]              15\n",
            "            Linear-2                 [-1, 2, 4]              24\n",
            "            Linear-3                 [-1, 2, 1]               5\n",
            "================================================================\n",
            "Total params: 44\n",
            "Trainable params: 44\n",
            "Non-trainable params: 0\n",
            "----------------------------------------------------------------\n",
            "Input size (MB): 0.00\n",
            "Forward/backward pass size (MB): 0.00\n",
            "Params size (MB): 0.00\n",
            "Estimated Total Size (MB): 0.00\n",
            "----------------------------------------------------------------\n"
          ],
          "name": "stdout"
        },
        {
          "output_type": "stream",
          "text": [
            "/usr/local/lib/python3.7/dist-packages/torch/nn/functional.py:1698: UserWarning: nn.functional.tanh is deprecated. Use torch.tanh instead.\n",
            "  warnings.warn(\"nn.functional.tanh is deprecated. Use torch.tanh instead.\")\n"
          ],
          "name": "stderr"
        }
      ]
    },
    {
      "cell_type": "code",
      "metadata": {
        "id": "yeotEq19x6XF"
      },
      "source": [
        "def weights_init(model):\n",
        "    for m in model.modules():\n",
        "        if isinstance(m, nn.Linear):\n",
        "            # initialize the weight tensor, here we use a normal distribution\n",
        "            m.weight.data.normal_(0, 1)\n",
        "\n",
        "weights_init(model)"
      ],
      "execution_count": 5,
      "outputs": []
    },
    {
      "cell_type": "code",
      "metadata": {
        "id": "WrD_sNzLx78e"
      },
      "source": [
        "loss_func = nn.L1Loss()"
      ],
      "execution_count": 6,
      "outputs": []
    },
    {
      "cell_type": "code",
      "metadata": {
        "id": "-zvbrMd2x_lA"
      },
      "source": [
        "optimizer = optim.SGD(model.parameters(), lr=0.02, momentum=0.9)\n"
      ],
      "execution_count": 7,
      "outputs": []
    },
    {
      "cell_type": "code",
      "metadata": {
        "colab": {
          "base_uri": "https://localhost:8080/"
        },
        "id": "q7tWa3D7yA5X",
        "outputId": "f3370fd7-57f5-489c-e5c4-6ac6d236e31a"
      },
      "source": [
        "# run it for 2001 epochs\n",
        "# epochs = 300\n",
        "epochs = 2000\n",
        "steps = X.size(0)\n",
        "for i in range(epochs):\n",
        "    for j in range(steps):\n",
        "        data_point = np.random.randint(X.size(0))\n",
        "        x_var = Variable(X[data_point], requires_grad=False)\n",
        "        y_var = Variable(Y[data_point], requires_grad=False)\n",
        "        \n",
        "        optimizer.zero_grad()\n",
        "        y_hat = model(x_var)\n",
        "        loss = loss_func.forward(y_hat, y_var)\n",
        "        loss.backward()\n",
        "        optimizer.step()\n",
        "        \n",
        "    if i % 50 == 0:\n",
        "        print( \"Epoch: {0}, Loss: {1}, \".format(i, loss.data.numpy()))"
      ],
      "execution_count": 8,
      "outputs": [
        {
          "output_type": "stream",
          "text": [
            "/usr/local/lib/python3.7/dist-packages/torch/nn/functional.py:1698: UserWarning: nn.functional.tanh is deprecated. Use torch.tanh instead.\n",
            "  warnings.warn(\"nn.functional.tanh is deprecated. Use torch.tanh instead.\")\n"
          ],
          "name": "stderr"
        },
        {
          "output_type": "stream",
          "text": [
            "Epoch: 0, Loss: 0.5298342108726501, \n",
            "Epoch: 50, Loss: 0.19145911931991577, \n",
            "Epoch: 100, Loss: 0.35250985622406006, \n",
            "Epoch: 150, Loss: 0.6035892963409424, \n",
            "Epoch: 200, Loss: 0.6144516468048096, \n",
            "Epoch: 250, Loss: 0.3439521789550781, \n",
            "Epoch: 300, Loss: 0.052532076835632324, \n",
            "Epoch: 350, Loss: 0.020774483680725098, \n",
            "Epoch: 400, Loss: 0.3330810070037842, \n",
            "Epoch: 450, Loss: 0.22763049602508545, \n",
            "Epoch: 500, Loss: 0.0750577449798584, \n",
            "Epoch: 550, Loss: 0.05138552188873291, \n",
            "Epoch: 600, Loss: 0.24058181047439575, \n",
            "Epoch: 650, Loss: 0.215773344039917, \n",
            "Epoch: 700, Loss: 0.013950943946838379, \n",
            "Epoch: 750, Loss: 0.15674138069152832, \n",
            "Epoch: 800, Loss: 0.238694429397583, \n",
            "Epoch: 850, Loss: 0.11491131782531738, \n",
            "Epoch: 900, Loss: 0.10011875629425049, \n",
            "Epoch: 950, Loss: 0.4833637475967407, \n",
            "Epoch: 1000, Loss: 0.06471455097198486, \n",
            "Epoch: 1050, Loss: 0.7795867919921875, \n",
            "Epoch: 1100, Loss: 0.23996758460998535, \n",
            "Epoch: 1150, Loss: 0.19521546363830566, \n",
            "Epoch: 1200, Loss: 0.05720210075378418, \n",
            "Epoch: 1250, Loss: 0.2950112819671631, \n",
            "Epoch: 1300, Loss: 0.21923929452896118, \n",
            "Epoch: 1350, Loss: 0.12328445911407471, \n",
            "Epoch: 1400, Loss: 0.19224947690963745, \n",
            "Epoch: 1450, Loss: 0.14257097244262695, \n",
            "Epoch: 1500, Loss: 0.09514087438583374, \n",
            "Epoch: 1550, Loss: 0.09133315086364746, \n",
            "Epoch: 1600, Loss: 0.05447709560394287, \n",
            "Epoch: 1650, Loss: 0.8356567025184631, \n",
            "Epoch: 1700, Loss: 0.2643395662307739, \n",
            "Epoch: 1750, Loss: 0.4583775997161865, \n",
            "Epoch: 1800, Loss: 0.1709294319152832, \n",
            "Epoch: 1850, Loss: 0.060372233390808105, \n",
            "Epoch: 1900, Loss: 0.025737345218658447, \n",
            "Epoch: 1950, Loss: 0.18002653121948242, \n"
          ],
          "name": "stdout"
        }
      ]
    },
    {
      "cell_type": "code",
      "metadata": {
        "id": "QV0dIdveyCRi"
      },
      "source": [
        ""
      ],
      "execution_count": null,
      "outputs": []
    }
  ]
}